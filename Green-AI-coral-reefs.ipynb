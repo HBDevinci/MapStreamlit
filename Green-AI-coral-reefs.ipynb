{
 "cells": [
  {
   "cell_type": "markdown",
   "id": "82df1e95",
   "metadata": {},
   "source": [
    "# Green AI project\n",
    "by AHLAT Hayal, BOYER Hugo, LAPILUS Joyce, MELON Mario - A4 DIA1 Promo 2025\n",
    "\n",
    "---\n",
    "**Subject:** The preservation of coral reefs"
   ]
  },
  {
   "cell_type": "markdown",
   "id": "7b0db637",
   "metadata": {},
   "source": [
    "![coral reef](https://geographical.co.uk/wp-content/uploads/shutterstock_1894838764.jpg)"
   ]
  },
  {
   "cell_type": "code",
   "execution_count": 2,
   "id": "b16f1aa5",
   "metadata": {},
   "outputs": [],
   "source": [
    "import pandas as pd"
   ]
  },
  {
   "cell_type": "markdown",
   "id": "682ec4c7",
   "metadata": {},
   "source": [
    "## Data exploration"
   ]
  },
  {
   "cell_type": "markdown",
   "id": "eb8cbd43",
   "metadata": {},
   "source": [
    "### Reefs dataset"
   ]
  },
  {
   "cell_type": "markdown",
   "id": "7abc4ee2",
   "metadata": {},
   "source": [
    "https://www.kaggle.com/datasets/noaa/deep-sea-corals/"
   ]
  },
  {
   "cell_type": "code",
   "execution_count": 3,
   "id": "431394a6",
   "metadata": {},
   "outputs": [
    {
     "name": "stderr",
     "output_type": "stream",
     "text": [
      "C:\\Users\\33684\\AppData\\Local\\Temp\\ipykernel_35048\\3072578492.py:1: DtypeWarning: Columns (5,13) have mixed types. Specify dtype option on import or set low_memory=False.\n",
      "  reefs = pd.read_csv('deep_sea_corals.csv')\n"
     ]
    },
    {
     "data": {
      "text/html": [
       "<div>\n",
       "<style scoped>\n",
       "    .dataframe tbody tr th:only-of-type {\n",
       "        vertical-align: middle;\n",
       "    }\n",
       "\n",
       "    .dataframe tbody tr th {\n",
       "        vertical-align: top;\n",
       "    }\n",
       "\n",
       "    .dataframe thead th {\n",
       "        text-align: right;\n",
       "    }\n",
       "</style>\n",
       "<table border=\"1\" class=\"dataframe\">\n",
       "  <thead>\n",
       "    <tr style=\"text-align: right;\">\n",
       "      <th></th>\n",
       "      <th>CatalogNumber</th>\n",
       "      <th>DataProvider</th>\n",
       "      <th>ScientificName</th>\n",
       "      <th>VernacularNameCategory</th>\n",
       "      <th>TaxonRank</th>\n",
       "      <th>Station</th>\n",
       "      <th>ObservationDate</th>\n",
       "      <th>latitude</th>\n",
       "      <th>longitude</th>\n",
       "      <th>DepthInMeters</th>\n",
       "      <th>DepthMethod</th>\n",
       "      <th>Locality</th>\n",
       "      <th>LocationAccuracy</th>\n",
       "      <th>SurveyID</th>\n",
       "      <th>Repository</th>\n",
       "      <th>IdentificationQualifier</th>\n",
       "      <th>EventID</th>\n",
       "      <th>SamplingEquipment</th>\n",
       "      <th>RecordType</th>\n",
       "      <th>SampleID</th>\n",
       "    </tr>\n",
       "  </thead>\n",
       "  <tbody>\n",
       "    <tr>\n",
       "      <th>0</th>\n",
       "      <td>625366</td>\n",
       "      <td>NOAA, Deep Sea Coral Research &amp; Technology Pro...</td>\n",
       "      <td>Madrepora oculata</td>\n",
       "      <td>stony coral (branching)</td>\n",
       "      <td>species</td>\n",
       "      <td>D2-EX1504L3-05</td>\n",
       "      <td>2015-09-02</td>\n",
       "      <td>18.30817</td>\n",
       "      <td>-158.45392</td>\n",
       "      <td>959</td>\n",
       "      <td>reported</td>\n",
       "      <td>Hawaiian Archipelago, Swordfish Seamount</td>\n",
       "      <td>50m</td>\n",
       "      <td>Hohonu Moana: Exploring Deep Waters off Hawai'i</td>\n",
       "      <td>University of Hawaii</td>\n",
       "      <td>ID by expert from video</td>\n",
       "      <td>D2-EX1504L3-05</td>\n",
       "      <td>ROV</td>\n",
       "      <td>video observation</td>\n",
       "      <td>EX1504L3_05_20150901T181522Z.mp4_05:45:26:28</td>\n",
       "    </tr>\n",
       "    <tr>\n",
       "      <th>1</th>\n",
       "      <td>625373</td>\n",
       "      <td>NOAA, Deep Sea Coral Research &amp; Technology Pro...</td>\n",
       "      <td>Madrepora oculata</td>\n",
       "      <td>stony coral (branching)</td>\n",
       "      <td>species</td>\n",
       "      <td>D2-EX1504L3-05</td>\n",
       "      <td>2015-09-01</td>\n",
       "      <td>18.30864</td>\n",
       "      <td>-158.45393</td>\n",
       "      <td>953</td>\n",
       "      <td>reported</td>\n",
       "      <td>Hawaiian Archipelago, Swordfish Seamount</td>\n",
       "      <td>50m</td>\n",
       "      <td>Hohonu Moana: Exploring Deep Waters off Hawai'i</td>\n",
       "      <td>University of Hawaii</td>\n",
       "      <td>ID by expert from video</td>\n",
       "      <td>D2-EX1504L3-05</td>\n",
       "      <td>ROV</td>\n",
       "      <td>video observation</td>\n",
       "      <td>EX1504L3_05_20150901T181522Z.mp4_05:24:35:53</td>\n",
       "    </tr>\n",
       "    <tr>\n",
       "      <th>2</th>\n",
       "      <td>625386</td>\n",
       "      <td>NOAA, Deep Sea Coral Research &amp; Technology Pro...</td>\n",
       "      <td>Madrepora oculata</td>\n",
       "      <td>stony coral (branching)</td>\n",
       "      <td>species</td>\n",
       "      <td>D2-EX1504L3-05</td>\n",
       "      <td>2015-09-01</td>\n",
       "      <td>18.30877</td>\n",
       "      <td>-158.45384</td>\n",
       "      <td>955</td>\n",
       "      <td>reported</td>\n",
       "      <td>Hawaiian Archipelago, Swordfish Seamount</td>\n",
       "      <td>50m</td>\n",
       "      <td>Hohonu Moana: Exploring Deep Waters off Hawai'i</td>\n",
       "      <td>University of Hawaii</td>\n",
       "      <td>ID by expert from video</td>\n",
       "      <td>D2-EX1504L3-05</td>\n",
       "      <td>ROV</td>\n",
       "      <td>video observation</td>\n",
       "      <td>EX1504L3_05_20150901T181522Z.mp4_05:15:22:09</td>\n",
       "    </tr>\n",
       "    <tr>\n",
       "      <th>3</th>\n",
       "      <td>625382</td>\n",
       "      <td>NOAA, Deep Sea Coral Research &amp; Technology Pro...</td>\n",
       "      <td>Madrepora oculata</td>\n",
       "      <td>stony coral (branching)</td>\n",
       "      <td>species</td>\n",
       "      <td>D2-EX1504L3-05</td>\n",
       "      <td>2015-09-01</td>\n",
       "      <td>18.30875</td>\n",
       "      <td>-158.45384</td>\n",
       "      <td>955</td>\n",
       "      <td>reported</td>\n",
       "      <td>Hawaiian Archipelago, Swordfish Seamount</td>\n",
       "      <td>50m</td>\n",
       "      <td>Hohonu Moana: Exploring Deep Waters off Hawai'i</td>\n",
       "      <td>University of Hawaii</td>\n",
       "      <td>ID by expert from video</td>\n",
       "      <td>D2-EX1504L3-05</td>\n",
       "      <td>ROV</td>\n",
       "      <td>video observation</td>\n",
       "      <td>EX1504L3_05_20150901T181522Z.mp4_05:13:29:50</td>\n",
       "    </tr>\n",
       "    <tr>\n",
       "      <th>4</th>\n",
       "      <td>625384</td>\n",
       "      <td>NOAA, Deep Sea Coral Research &amp; Technology Pro...</td>\n",
       "      <td>Madrepora oculata</td>\n",
       "      <td>stony coral (branching)</td>\n",
       "      <td>species</td>\n",
       "      <td>D2-EX1504L3-05</td>\n",
       "      <td>2015-09-01</td>\n",
       "      <td>18.30902</td>\n",
       "      <td>-158.45425</td>\n",
       "      <td>968</td>\n",
       "      <td>reported</td>\n",
       "      <td>Hawaiian Archipelago, Swordfish Seamount</td>\n",
       "      <td>50m</td>\n",
       "      <td>Hohonu Moana: Exploring Deep Waters off Hawai'i</td>\n",
       "      <td>University of Hawaii</td>\n",
       "      <td>ID by expert from video</td>\n",
       "      <td>D2-EX1504L3-05</td>\n",
       "      <td>ROV</td>\n",
       "      <td>video observation</td>\n",
       "      <td>EX1504L3_05_20150901T181522Z.mp4_04:24:44:48</td>\n",
       "    </tr>\n",
       "  </tbody>\n",
       "</table>\n",
       "</div>"
      ],
      "text/plain": [
       "   CatalogNumber                                       DataProvider  \\\n",
       "0         625366  NOAA, Deep Sea Coral Research & Technology Pro...   \n",
       "1         625373  NOAA, Deep Sea Coral Research & Technology Pro...   \n",
       "2         625386  NOAA, Deep Sea Coral Research & Technology Pro...   \n",
       "3         625382  NOAA, Deep Sea Coral Research & Technology Pro...   \n",
       "4         625384  NOAA, Deep Sea Coral Research & Technology Pro...   \n",
       "\n",
       "      ScientificName   VernacularNameCategory TaxonRank         Station  \\\n",
       "0  Madrepora oculata  stony coral (branching)   species  D2-EX1504L3-05   \n",
       "1  Madrepora oculata  stony coral (branching)   species  D2-EX1504L3-05   \n",
       "2  Madrepora oculata  stony coral (branching)   species  D2-EX1504L3-05   \n",
       "3  Madrepora oculata  stony coral (branching)   species  D2-EX1504L3-05   \n",
       "4  Madrepora oculata  stony coral (branching)   species  D2-EX1504L3-05   \n",
       "\n",
       "  ObservationDate  latitude  longitude  DepthInMeters DepthMethod  \\\n",
       "0      2015-09-02  18.30817 -158.45392            959    reported   \n",
       "1      2015-09-01  18.30864 -158.45393            953    reported   \n",
       "2      2015-09-01  18.30877 -158.45384            955    reported   \n",
       "3      2015-09-01  18.30875 -158.45384            955    reported   \n",
       "4      2015-09-01  18.30902 -158.45425            968    reported   \n",
       "\n",
       "                                   Locality LocationAccuracy  \\\n",
       "0  Hawaiian Archipelago, Swordfish Seamount              50m   \n",
       "1  Hawaiian Archipelago, Swordfish Seamount              50m   \n",
       "2  Hawaiian Archipelago, Swordfish Seamount              50m   \n",
       "3  Hawaiian Archipelago, Swordfish Seamount              50m   \n",
       "4  Hawaiian Archipelago, Swordfish Seamount              50m   \n",
       "\n",
       "                                          SurveyID            Repository  \\\n",
       "0  Hohonu Moana: Exploring Deep Waters off Hawai'i  University of Hawaii   \n",
       "1  Hohonu Moana: Exploring Deep Waters off Hawai'i  University of Hawaii   \n",
       "2  Hohonu Moana: Exploring Deep Waters off Hawai'i  University of Hawaii   \n",
       "3  Hohonu Moana: Exploring Deep Waters off Hawai'i  University of Hawaii   \n",
       "4  Hohonu Moana: Exploring Deep Waters off Hawai'i  University of Hawaii   \n",
       "\n",
       "   IdentificationQualifier         EventID SamplingEquipment  \\\n",
       "0  ID by expert from video  D2-EX1504L3-05               ROV   \n",
       "1  ID by expert from video  D2-EX1504L3-05               ROV   \n",
       "2  ID by expert from video  D2-EX1504L3-05               ROV   \n",
       "3  ID by expert from video  D2-EX1504L3-05               ROV   \n",
       "4  ID by expert from video  D2-EX1504L3-05               ROV   \n",
       "\n",
       "          RecordType                                      SampleID  \n",
       "0  video observation  EX1504L3_05_20150901T181522Z.mp4_05:45:26:28  \n",
       "1  video observation  EX1504L3_05_20150901T181522Z.mp4_05:24:35:53  \n",
       "2  video observation  EX1504L3_05_20150901T181522Z.mp4_05:15:22:09  \n",
       "3  video observation  EX1504L3_05_20150901T181522Z.mp4_05:13:29:50  \n",
       "4  video observation  EX1504L3_05_20150901T181522Z.mp4_04:24:44:48  "
      ]
     },
     "execution_count": 3,
     "metadata": {},
     "output_type": "execute_result"
    }
   ],
   "source": [
    "reefs = pd.read_csv('deep_sea_corals.csv')\n",
    "reefs.head()"
   ]
  },
  {
   "cell_type": "code",
   "execution_count": 4,
   "id": "40404fb9",
   "metadata": {},
   "outputs": [
    {
     "name": "stdout",
     "output_type": "stream",
     "text": [
      "<class 'pandas.core.frame.DataFrame'>\n",
      "RangeIndex: 513372 entries, 0 to 513371\n",
      "Data columns (total 20 columns):\n",
      " #   Column                   Non-Null Count   Dtype  \n",
      "---  ------                   --------------   -----  \n",
      " 0   CatalogNumber            513372 non-null  int64  \n",
      " 1   DataProvider             513372 non-null  object \n",
      " 2   ScientificName           513372 non-null  object \n",
      " 3   VernacularNameCategory   513197 non-null  object \n",
      " 4   TaxonRank                513364 non-null  object \n",
      " 5   Station                  253590 non-null  object \n",
      " 6   ObservationDate          513367 non-null  object \n",
      " 7   latitude                 513372 non-null  float64\n",
      " 8   longitude                513372 non-null  float64\n",
      " 9   DepthInMeters            513372 non-null  int64  \n",
      " 10  DepthMethod              496845 non-null  object \n",
      " 11  Locality                 389645 non-null  object \n",
      " 12  LocationAccuracy         484662 non-null  object \n",
      " 13  SurveyID                 306228 non-null  object \n",
      " 14  Repository               496584 non-null  object \n",
      " 15  IdentificationQualifier  488591 non-null  object \n",
      " 16  EventID                  472141 non-null  object \n",
      " 17  SamplingEquipment        485883 non-null  object \n",
      " 18  RecordType               501077 non-null  object \n",
      " 19  SampleID                 402294 non-null  object \n",
      "dtypes: float64(2), int64(2), object(16)\n",
      "memory usage: 78.3+ MB\n"
     ]
    }
   ],
   "source": [
    "reefs.info()"
   ]
  },
  {
   "cell_type": "code",
   "execution_count": 5,
   "id": "661022dc",
   "metadata": {},
   "outputs": [
    {
     "data": {
      "text/plain": [
       "array(['2015-09-02', '2015-09-01', '2015-09-03', ..., '1963-11-26',\n",
       "       '1885-07-05', '1880-04-20'], dtype=object)"
      ]
     },
     "execution_count": 5,
     "metadata": {},
     "output_type": "execute_result"
    }
   ],
   "source": [
    "reefs['ObservationDate'].unique()"
   ]
  },
  {
   "cell_type": "code",
   "execution_count": 6,
   "id": "f4aed6d2",
   "metadata": {},
   "outputs": [
    {
     "data": {
      "text/plain": [
       "array(['species', 'genus', 'phylum', 'order', 'family', 'suborder',\n",
       "       'subgenus', 'subspecies', 'variety', 'class', 'forma', 'subfamily',\n",
       "       'subclass', nan], dtype=object)"
      ]
     },
     "execution_count": 6,
     "metadata": {},
     "output_type": "execute_result"
    }
   ],
   "source": [
    "reefs.TaxonRank.unique()"
   ]
  },
  {
   "cell_type": "code",
   "execution_count": 7,
   "id": "afa1e7dd",
   "metadata": {},
   "outputs": [
    {
     "data": {
      "text/plain": [
       "array(['stony coral (branching)', 'gorgonian coral',\n",
       "       'stony coral (cup coral)', 'black coral', 'sea pen', 'demosponge',\n",
       "       'lace coral', 'sponge (unspecified)', 'stony coral (unspecified)',\n",
       "       'stoloniferan coral', 'soft coral', 'glass sponge',\n",
       "       'scleromorph sponge', 'lithotelestid coral', 'gold coral',\n",
       "       'calcareous sponge', 'other coral-like hydrozoan', nan],\n",
       "      dtype=object)"
      ]
     },
     "execution_count": 7,
     "metadata": {},
     "output_type": "execute_result"
    }
   ],
   "source": [
    "reefs.VernacularNameCategory.unique()"
   ]
  },
  {
   "cell_type": "code",
   "execution_count": 8,
   "id": "e736c2a2",
   "metadata": {},
   "outputs": [
    {
     "data": {
      "text/plain": [
       "18"
      ]
     },
     "execution_count": 8,
     "metadata": {},
     "output_type": "execute_result"
    }
   ],
   "source": [
    "len(reefs.VernacularNameCategory.unique())"
   ]
  },
  {
   "cell_type": "code",
   "execution_count": 9,
   "id": "372a8d5a",
   "metadata": {},
   "outputs": [
    {
     "data": {
      "text/plain": [
       "array(['Madrepora oculata', 'Acanthogorgia sp.',\n",
       "       'Stenocyathus vermiformis', ..., 'Paragorgia tapachtli',\n",
       "       'Thalamophyllia riisei', 'Primnoa resedaeformis'], dtype=object)"
      ]
     },
     "execution_count": 9,
     "metadata": {},
     "output_type": "execute_result"
    }
   ],
   "source": [
    "reefs.ScientificName.unique()"
   ]
  },
  {
   "cell_type": "code",
   "execution_count": 10,
   "id": "d94ef0bb",
   "metadata": {},
   "outputs": [
    {
     "data": {
      "text/plain": [
       "2888"
      ]
     },
     "execution_count": 10,
     "metadata": {},
     "output_type": "execute_result"
    }
   ],
   "source": [
    "len(reefs.ScientificName.unique())"
   ]
  },
  {
   "cell_type": "markdown",
   "id": "cee40d50",
   "metadata": {},
   "source": [
    "### Ocean acidification dataset"
   ]
  },
  {
   "cell_type": "markdown",
   "id": "27d3b1cf",
   "metadata": {},
   "source": [
    "https://www.ncei.noaa.gov/data/oceans/ncei/ocads/metadata/0219960.html"
   ]
  },
  {
   "cell_type": "code",
   "execution_count": 11,
   "id": "02d68cf6",
   "metadata": {},
   "outputs": [
    {
     "name": "stderr",
     "output_type": "stream",
     "text": [
      "C:\\Users\\33684\\AppData\\Local\\Temp\\ipykernel_35048\\3583915326.py:1: DtypeWarning: Columns (0,5,6,7,8,9,10,11,12,13,14,15,16,17,18,19,20,21,22,23,24,25,26,27,28,29,30,31,32,33,34,35,36,37,38,39,40,41,42,43,44,45,46,47,48,49,50,51,52,53,54,55,56,57,58,59,60,61,62,63,64,65,66,67,68,69,70,71,72) have mixed types. Specify dtype option on import or set low_memory=False.\n",
      "  oceans = pd.read_csv('CODAP_NA_v2021.csv')\n"
     ]
    },
    {
     "data": {
      "text/html": [
       "<div>\n",
       "<style scoped>\n",
       "    .dataframe tbody tr th:only-of-type {\n",
       "        vertical-align: middle;\n",
       "    }\n",
       "\n",
       "    .dataframe tbody tr th {\n",
       "        vertical-align: top;\n",
       "    }\n",
       "\n",
       "    .dataframe thead th {\n",
       "        text-align: right;\n",
       "    }\n",
       "</style>\n",
       "<table border=\"1\" class=\"dataframe\">\n",
       "  <thead>\n",
       "    <tr style=\"text-align: right;\">\n",
       "      <th></th>\n",
       "      <th>Accession</th>\n",
       "      <th>EXPOCODE</th>\n",
       "      <th>Cruise_flag</th>\n",
       "      <th>Cruise_ID</th>\n",
       "      <th>Observation_type</th>\n",
       "      <th>Profile_number</th>\n",
       "      <th>Station_ID</th>\n",
       "      <th>Cast_number</th>\n",
       "      <th>Niskin_ID</th>\n",
       "      <th>Niskin_flag</th>\n",
       "      <th>...</th>\n",
       "      <th>Nitrate</th>\n",
       "      <th>Nitrate_flag</th>\n",
       "      <th>Nitrite</th>\n",
       "      <th>Nitrite_flag</th>\n",
       "      <th>Nitrate_and_Nitrite</th>\n",
       "      <th>Nitrate_and_Nitrite_flag</th>\n",
       "      <th>recommended_Nitrate_and_Nitrite</th>\n",
       "      <th>recommended_Nitrate_and_Nitrite_flag</th>\n",
       "      <th>Ammonium</th>\n",
       "      <th>Ammonium_flag</th>\n",
       "    </tr>\n",
       "  </thead>\n",
       "  <tbody>\n",
       "    <tr>\n",
       "      <th>0</th>\n",
       "      <td>n.a.</td>\n",
       "      <td>n.a.</td>\n",
       "      <td>n.a.</td>\n",
       "      <td>n.a.</td>\n",
       "      <td>n.a.</td>\n",
       "      <td>n.a.</td>\n",
       "      <td>n.a.</td>\n",
       "      <td>n.a.</td>\n",
       "      <td>n.a.</td>\n",
       "      <td>n.a.</td>\n",
       "      <td>...</td>\n",
       "      <td>[umol/kg]</td>\n",
       "      <td>n.a.</td>\n",
       "      <td>[umol/kg]</td>\n",
       "      <td>n.a.</td>\n",
       "      <td>[umol/kg]</td>\n",
       "      <td>n.a.</td>\n",
       "      <td>[umol/kg]</td>\n",
       "      <td>n.a.</td>\n",
       "      <td>[umol/kg]</td>\n",
       "      <td>n.a.</td>\n",
       "    </tr>\n",
       "    <tr>\n",
       "      <th>1</th>\n",
       "      <td>144549</td>\n",
       "      <td>33HQ20080329</td>\n",
       "      <td>B</td>\n",
       "      <td>HLY0802</td>\n",
       "      <td>Niskin</td>\n",
       "      <td>1</td>\n",
       "      <td>1</td>\n",
       "      <td>5</td>\n",
       "      <td>1</td>\n",
       "      <td>2</td>\n",
       "      <td>...</td>\n",
       "      <td>25.8</td>\n",
       "      <td>2</td>\n",
       "      <td>0.19</td>\n",
       "      <td>2</td>\n",
       "      <td>25.99</td>\n",
       "      <td>2</td>\n",
       "      <td>25.99</td>\n",
       "      <td>2</td>\n",
       "      <td>0.14</td>\n",
       "      <td>2</td>\n",
       "    </tr>\n",
       "    <tr>\n",
       "      <th>2</th>\n",
       "      <td>144549</td>\n",
       "      <td>33HQ20080329</td>\n",
       "      <td>B</td>\n",
       "      <td>HLY0802</td>\n",
       "      <td>Niskin</td>\n",
       "      <td>1</td>\n",
       "      <td>1</td>\n",
       "      <td>5</td>\n",
       "      <td>2</td>\n",
       "      <td>2</td>\n",
       "      <td>...</td>\n",
       "      <td>25.6</td>\n",
       "      <td>2</td>\n",
       "      <td>0.2</td>\n",
       "      <td>2</td>\n",
       "      <td>25.8</td>\n",
       "      <td>2</td>\n",
       "      <td>25.8</td>\n",
       "      <td>2</td>\n",
       "      <td>0.13</td>\n",
       "      <td>2</td>\n",
       "    </tr>\n",
       "    <tr>\n",
       "      <th>3</th>\n",
       "      <td>144549</td>\n",
       "      <td>33HQ20080329</td>\n",
       "      <td>B</td>\n",
       "      <td>HLY0802</td>\n",
       "      <td>Niskin</td>\n",
       "      <td>1</td>\n",
       "      <td>1</td>\n",
       "      <td>5</td>\n",
       "      <td>3</td>\n",
       "      <td>2</td>\n",
       "      <td>...</td>\n",
       "      <td>24</td>\n",
       "      <td>2</td>\n",
       "      <td>0.15</td>\n",
       "      <td>2</td>\n",
       "      <td>24.15</td>\n",
       "      <td>2</td>\n",
       "      <td>24.15</td>\n",
       "      <td>2</td>\n",
       "      <td>0.41</td>\n",
       "      <td>2</td>\n",
       "    </tr>\n",
       "    <tr>\n",
       "      <th>4</th>\n",
       "      <td>144549</td>\n",
       "      <td>33HQ20080329</td>\n",
       "      <td>B</td>\n",
       "      <td>HLY0802</td>\n",
       "      <td>Niskin</td>\n",
       "      <td>1</td>\n",
       "      <td>1</td>\n",
       "      <td>5</td>\n",
       "      <td>4</td>\n",
       "      <td>2</td>\n",
       "      <td>...</td>\n",
       "      <td>22.6</td>\n",
       "      <td>2</td>\n",
       "      <td>0.17</td>\n",
       "      <td>2</td>\n",
       "      <td>22.77</td>\n",
       "      <td>2</td>\n",
       "      <td>22.77</td>\n",
       "      <td>2</td>\n",
       "      <td>-999</td>\n",
       "      <td>9</td>\n",
       "    </tr>\n",
       "  </tbody>\n",
       "</table>\n",
       "<p>5 rows × 73 columns</p>\n",
       "</div>"
      ],
      "text/plain": [
       "  Accession      EXPOCODE Cruise_flag Cruise_ID Observation_type  \\\n",
       "0      n.a.          n.a.        n.a.      n.a.             n.a.   \n",
       "1    144549  33HQ20080329           B   HLY0802           Niskin   \n",
       "2    144549  33HQ20080329           B   HLY0802           Niskin   \n",
       "3    144549  33HQ20080329           B   HLY0802           Niskin   \n",
       "4    144549  33HQ20080329           B   HLY0802           Niskin   \n",
       "\n",
       "  Profile_number Station_ID Cast_number Niskin_ID Niskin_flag  ...    Nitrate  \\\n",
       "0           n.a.       n.a.        n.a.      n.a.        n.a.  ...  [umol/kg]   \n",
       "1              1          1           5         1           2  ...       25.8   \n",
       "2              1          1           5         2           2  ...       25.6   \n",
       "3              1          1           5         3           2  ...         24   \n",
       "4              1          1           5         4           2  ...       22.6   \n",
       "\n",
       "  Nitrate_flag    Nitrite Nitrite_flag Nitrate_and_Nitrite  \\\n",
       "0         n.a.  [umol/kg]         n.a.           [umol/kg]   \n",
       "1            2       0.19            2               25.99   \n",
       "2            2        0.2            2                25.8   \n",
       "3            2       0.15            2               24.15   \n",
       "4            2       0.17            2               22.77   \n",
       "\n",
       "  Nitrate_and_Nitrite_flag recommended_Nitrate_and_Nitrite  \\\n",
       "0                     n.a.                       [umol/kg]   \n",
       "1                        2                           25.99   \n",
       "2                        2                            25.8   \n",
       "3                        2                           24.15   \n",
       "4                        2                           22.77   \n",
       "\n",
       "  recommended_Nitrate_and_Nitrite_flag   Ammonium Ammonium_flag  \n",
       "0                                 n.a.  [umol/kg]          n.a.  \n",
       "1                                    2       0.14             2  \n",
       "2                                    2       0.13             2  \n",
       "3                                    2       0.41             2  \n",
       "4                                    2       -999             9  \n",
       "\n",
       "[5 rows x 73 columns]"
      ]
     },
     "execution_count": 11,
     "metadata": {},
     "output_type": "execute_result"
    }
   ],
   "source": [
    "oceans = pd.read_csv('CODAP_NA_v2021.csv')\n",
    "oceans.head()"
   ]
  },
  {
   "cell_type": "code",
   "execution_count": 12,
   "id": "ca6b07ef",
   "metadata": {},
   "outputs": [
    {
     "data": {
      "text/plain": [
       "Index(['Accession', 'EXPOCODE', 'Cruise_flag', 'Cruise_ID', 'Observation_type',\n",
       "       'Profile_number', 'Station_ID', 'Cast_number', 'Niskin_ID',\n",
       "       'Niskin_flag', 'Sample_ID', 'Year_UTC', 'Month_UTC', 'Day_UTC',\n",
       "       'Time_UTC', 'Latitude', 'Longitude', 'Depth_bottom', 'Max_sample_depth',\n",
       "       'CTDPRES', 'Depth', 'CTDTEMP_ITS90', 'CTDTEMP_flag', 'CTDSAL_PSS78',\n",
       "       'CTDSAL_flag', 'Salinity_PSS78', 'Salinity_flag',\n",
       "       'recommended_Salinity_PSS78', 'recommended_Salinity_flag', 'CTDOXY',\n",
       "       'CTDOXY_flag', 'Oxygen', 'Oxygen_flag', 'recommended_Oxygen',\n",
       "       'recommended_Oxygen_flag', 'AOU', 'AOU_flag', 'DIC', 'DIC_flag', 'TALK',\n",
       "       'TALK_flag', 'pH_TS_measured', 'TEMP_pH', 'pH_flag',\n",
       "       'pH_TS_insitu_measured', 'pH_TS_insitu_calculated', 'fCO2_measured',\n",
       "       'TEMP_fCO2', 'fCO2_flag', 'fCO2_insitu_measured',\n",
       "       'fCO2_insitu_calculated', 'Carbonate_measured', 'TEMP_Carbonate',\n",
       "       'Carbonate_flag', 'Carbonate_insitu_measured',\n",
       "       'Carbonate_insitu_calculated', 'Aragonite', 'Calcite', 'Revelle_Factor',\n",
       "       'Silicate', 'Silicate_flag', 'Phosphate', 'Phosphate_flag', 'Nitrate',\n",
       "       'Nitrate_flag', 'Nitrite', 'Nitrite_flag', 'Nitrate_and_Nitrite',\n",
       "       'Nitrate_and_Nitrite_flag', 'recommended_Nitrate_and_Nitrite',\n",
       "       'recommended_Nitrate_and_Nitrite_flag', 'Ammonium', 'Ammonium_flag'],\n",
       "      dtype='object')"
      ]
     },
     "execution_count": 12,
     "metadata": {},
     "output_type": "execute_result"
    }
   ],
   "source": [
    "oceans.columns"
   ]
  },
  {
   "cell_type": "code",
   "execution_count": 13,
   "id": "cc47701f",
   "metadata": {},
   "outputs": [
    {
     "data": {
      "text/plain": [
       "array(['n.a.', '2008', '2009', '2010', '2011', '2012', '2013', '2015',\n",
       "       2015, 2018, 2012, 2014, 2013, 2016, 2017, 2003, 2004, 2005, 2006,\n",
       "       2007, 2011], dtype=object)"
      ]
     },
     "execution_count": 13,
     "metadata": {},
     "output_type": "execute_result"
    }
   ],
   "source": [
    "oceans.Year_UTC.unique()"
   ]
  },
  {
   "cell_type": "markdown",
   "id": "e0dece81",
   "metadata": {},
   "source": [
    "- température/salinité\n",
    "- carbone\n",
    "- oxygène dans l'eau\n",
    "- pH"
   ]
  },
  {
   "cell_type": "markdown",
   "id": "6ec00967",
   "metadata": {},
   "source": [
    "## Data cleaning"
   ]
  },
  {
   "cell_type": "markdown",
   "id": "bd4ca8c5",
   "metadata": {},
   "source": [
    "### Dropping columns / rows"
   ]
  },
  {
   "cell_type": "markdown",
   "id": "17f11e23",
   "metadata": {},
   "source": [
    "#### Reef dataset"
   ]
  },
  {
   "cell_type": "code",
   "execution_count": 14,
   "id": "a6e57611",
   "metadata": {},
   "outputs": [
    {
     "data": {
      "text/plain": [
       "['CatalogNumber',\n",
       " 'DataProvider',\n",
       " 'Station',\n",
       " 'DepthMethod',\n",
       " 'LocationAccuracy',\n",
       " 'SurveyID',\n",
       " 'Repository',\n",
       " 'IdentificationQualifier',\n",
       " 'EventID',\n",
       " 'SamplingEquipment',\n",
       " 'RecordType',\n",
       " 'SampleID']"
      ]
     },
     "execution_count": 14,
     "metadata": {},
     "output_type": "execute_result"
    }
   ],
   "source": [
    "columns_to_keep = ['ScientificName', 'VernacularNameCategory', 'TaxonRank', 'ObservationDate', \n",
    "                   'latitude', 'longitude', 'DepthInMeters', 'Locality']\n",
    "columns_to_drop = [x for x in list(reefs.columns) if x not in columns_to_keep ]\n",
    "#columns_to_drop = ['CatalogNumber', 'DataProvider', 'Station', 'DepthMethod', 'Locality']\n",
    "columns_to_drop"
   ]
  },
  {
   "cell_type": "code",
   "execution_count": 15,
   "id": "0273fa35",
   "metadata": {},
   "outputs": [
    {
     "data": {
      "text/html": [
       "<div>\n",
       "<style scoped>\n",
       "    .dataframe tbody tr th:only-of-type {\n",
       "        vertical-align: middle;\n",
       "    }\n",
       "\n",
       "    .dataframe tbody tr th {\n",
       "        vertical-align: top;\n",
       "    }\n",
       "\n",
       "    .dataframe thead th {\n",
       "        text-align: right;\n",
       "    }\n",
       "</style>\n",
       "<table border=\"1\" class=\"dataframe\">\n",
       "  <thead>\n",
       "    <tr style=\"text-align: right;\">\n",
       "      <th></th>\n",
       "      <th>ScientificName</th>\n",
       "      <th>VernacularNameCategory</th>\n",
       "      <th>TaxonRank</th>\n",
       "      <th>ObservationDate</th>\n",
       "      <th>latitude</th>\n",
       "      <th>longitude</th>\n",
       "      <th>DepthInMeters</th>\n",
       "      <th>Locality</th>\n",
       "    </tr>\n",
       "  </thead>\n",
       "  <tbody>\n",
       "    <tr>\n",
       "      <th>0</th>\n",
       "      <td>Madrepora oculata</td>\n",
       "      <td>stony coral (branching)</td>\n",
       "      <td>species</td>\n",
       "      <td>2015-09-02</td>\n",
       "      <td>18.30817</td>\n",
       "      <td>-158.45392</td>\n",
       "      <td>959</td>\n",
       "      <td>Hawaiian Archipelago, Swordfish Seamount</td>\n",
       "    </tr>\n",
       "    <tr>\n",
       "      <th>1</th>\n",
       "      <td>Madrepora oculata</td>\n",
       "      <td>stony coral (branching)</td>\n",
       "      <td>species</td>\n",
       "      <td>2015-09-01</td>\n",
       "      <td>18.30864</td>\n",
       "      <td>-158.45393</td>\n",
       "      <td>953</td>\n",
       "      <td>Hawaiian Archipelago, Swordfish Seamount</td>\n",
       "    </tr>\n",
       "    <tr>\n",
       "      <th>2</th>\n",
       "      <td>Madrepora oculata</td>\n",
       "      <td>stony coral (branching)</td>\n",
       "      <td>species</td>\n",
       "      <td>2015-09-01</td>\n",
       "      <td>18.30877</td>\n",
       "      <td>-158.45384</td>\n",
       "      <td>955</td>\n",
       "      <td>Hawaiian Archipelago, Swordfish Seamount</td>\n",
       "    </tr>\n",
       "    <tr>\n",
       "      <th>3</th>\n",
       "      <td>Madrepora oculata</td>\n",
       "      <td>stony coral (branching)</td>\n",
       "      <td>species</td>\n",
       "      <td>2015-09-01</td>\n",
       "      <td>18.30875</td>\n",
       "      <td>-158.45384</td>\n",
       "      <td>955</td>\n",
       "      <td>Hawaiian Archipelago, Swordfish Seamount</td>\n",
       "    </tr>\n",
       "    <tr>\n",
       "      <th>4</th>\n",
       "      <td>Madrepora oculata</td>\n",
       "      <td>stony coral (branching)</td>\n",
       "      <td>species</td>\n",
       "      <td>2015-09-01</td>\n",
       "      <td>18.30902</td>\n",
       "      <td>-158.45425</td>\n",
       "      <td>968</td>\n",
       "      <td>Hawaiian Archipelago, Swordfish Seamount</td>\n",
       "    </tr>\n",
       "  </tbody>\n",
       "</table>\n",
       "</div>"
      ],
      "text/plain": [
       "      ScientificName   VernacularNameCategory TaxonRank ObservationDate  \\\n",
       "0  Madrepora oculata  stony coral (branching)   species      2015-09-02   \n",
       "1  Madrepora oculata  stony coral (branching)   species      2015-09-01   \n",
       "2  Madrepora oculata  stony coral (branching)   species      2015-09-01   \n",
       "3  Madrepora oculata  stony coral (branching)   species      2015-09-01   \n",
       "4  Madrepora oculata  stony coral (branching)   species      2015-09-01   \n",
       "\n",
       "   latitude  longitude  DepthInMeters  \\\n",
       "0  18.30817 -158.45392            959   \n",
       "1  18.30864 -158.45393            953   \n",
       "2  18.30877 -158.45384            955   \n",
       "3  18.30875 -158.45384            955   \n",
       "4  18.30902 -158.45425            968   \n",
       "\n",
       "                                   Locality  \n",
       "0  Hawaiian Archipelago, Swordfish Seamount  \n",
       "1  Hawaiian Archipelago, Swordfish Seamount  \n",
       "2  Hawaiian Archipelago, Swordfish Seamount  \n",
       "3  Hawaiian Archipelago, Swordfish Seamount  \n",
       "4  Hawaiian Archipelago, Swordfish Seamount  "
      ]
     },
     "execution_count": 15,
     "metadata": {},
     "output_type": "execute_result"
    }
   ],
   "source": [
    "reefs.drop(columns=columns_to_drop, axis=1, inplace=True)\n",
    "reefs.head()"
   ]
  },
  {
   "cell_type": "code",
   "execution_count": 16,
   "id": "c6aa25a6",
   "metadata": {},
   "outputs": [
    {
     "data": {
      "text/html": [
       "<div>\n",
       "<style scoped>\n",
       "    .dataframe tbody tr th:only-of-type {\n",
       "        vertical-align: middle;\n",
       "    }\n",
       "\n",
       "    .dataframe tbody tr th {\n",
       "        vertical-align: top;\n",
       "    }\n",
       "\n",
       "    .dataframe thead th {\n",
       "        text-align: right;\n",
       "    }\n",
       "</style>\n",
       "<table border=\"1\" class=\"dataframe\">\n",
       "  <thead>\n",
       "    <tr style=\"text-align: right;\">\n",
       "      <th></th>\n",
       "      <th>ScientificName</th>\n",
       "      <th>VernacularNameCategory</th>\n",
       "      <th>TaxonRank</th>\n",
       "      <th>ObservationDate</th>\n",
       "      <th>latitude</th>\n",
       "      <th>longitude</th>\n",
       "      <th>DepthInMeters</th>\n",
       "      <th>Locality</th>\n",
       "    </tr>\n",
       "  </thead>\n",
       "  <tbody>\n",
       "    <tr>\n",
       "      <th>1</th>\n",
       "      <td>Madrepora oculata</td>\n",
       "      <td>stony coral (branching)</td>\n",
       "      <td>species</td>\n",
       "      <td>2015-09-01</td>\n",
       "      <td>18.30864</td>\n",
       "      <td>-158.45393</td>\n",
       "      <td>953</td>\n",
       "      <td>Hawaiian Archipelago, Swordfish Seamount</td>\n",
       "    </tr>\n",
       "    <tr>\n",
       "      <th>2</th>\n",
       "      <td>Madrepora oculata</td>\n",
       "      <td>stony coral (branching)</td>\n",
       "      <td>species</td>\n",
       "      <td>2015-09-01</td>\n",
       "      <td>18.30877</td>\n",
       "      <td>-158.45384</td>\n",
       "      <td>955</td>\n",
       "      <td>Hawaiian Archipelago, Swordfish Seamount</td>\n",
       "    </tr>\n",
       "    <tr>\n",
       "      <th>3</th>\n",
       "      <td>Madrepora oculata</td>\n",
       "      <td>stony coral (branching)</td>\n",
       "      <td>species</td>\n",
       "      <td>2015-09-01</td>\n",
       "      <td>18.30875</td>\n",
       "      <td>-158.45384</td>\n",
       "      <td>955</td>\n",
       "      <td>Hawaiian Archipelago, Swordfish Seamount</td>\n",
       "    </tr>\n",
       "    <tr>\n",
       "      <th>4</th>\n",
       "      <td>Madrepora oculata</td>\n",
       "      <td>stony coral (branching)</td>\n",
       "      <td>species</td>\n",
       "      <td>2015-09-01</td>\n",
       "      <td>18.30902</td>\n",
       "      <td>-158.45425</td>\n",
       "      <td>968</td>\n",
       "      <td>Hawaiian Archipelago, Swordfish Seamount</td>\n",
       "    </tr>\n",
       "    <tr>\n",
       "      <th>5</th>\n",
       "      <td>Madrepora oculata</td>\n",
       "      <td>stony coral (branching)</td>\n",
       "      <td>species</td>\n",
       "      <td>2015-09-02</td>\n",
       "      <td>18.30746</td>\n",
       "      <td>-158.45412</td>\n",
       "      <td>976</td>\n",
       "      <td>Hawaiian Archipelago, Swordfish Seamount</td>\n",
       "    </tr>\n",
       "  </tbody>\n",
       "</table>\n",
       "</div>"
      ],
      "text/plain": [
       "      ScientificName   VernacularNameCategory TaxonRank ObservationDate  \\\n",
       "1  Madrepora oculata  stony coral (branching)   species      2015-09-01   \n",
       "2  Madrepora oculata  stony coral (branching)   species      2015-09-01   \n",
       "3  Madrepora oculata  stony coral (branching)   species      2015-09-01   \n",
       "4  Madrepora oculata  stony coral (branching)   species      2015-09-01   \n",
       "5  Madrepora oculata  stony coral (branching)   species      2015-09-02   \n",
       "\n",
       "   latitude  longitude  DepthInMeters  \\\n",
       "1  18.30864 -158.45393            953   \n",
       "2  18.30877 -158.45384            955   \n",
       "3  18.30875 -158.45384            955   \n",
       "4  18.30902 -158.45425            968   \n",
       "5  18.30746 -158.45412            976   \n",
       "\n",
       "                                   Locality  \n",
       "1  Hawaiian Archipelago, Swordfish Seamount  \n",
       "2  Hawaiian Archipelago, Swordfish Seamount  \n",
       "3  Hawaiian Archipelago, Swordfish Seamount  \n",
       "4  Hawaiian Archipelago, Swordfish Seamount  \n",
       "5  Hawaiian Archipelago, Swordfish Seamount  "
      ]
     },
     "execution_count": 16,
     "metadata": {},
     "output_type": "execute_result"
    }
   ],
   "source": [
    "reefs.drop(index=reefs.index[0], axis=0, inplace=True)\n",
    "reefs.head()"
   ]
  },
  {
   "cell_type": "code",
   "execution_count": 17,
   "id": "2446b4fb",
   "metadata": {},
   "outputs": [
    {
     "data": {
      "text/plain": [
       "ScientificName                 0\n",
       "VernacularNameCategory       175\n",
       "TaxonRank                      8\n",
       "ObservationDate                5\n",
       "latitude                       0\n",
       "longitude                      0\n",
       "DepthInMeters                  0\n",
       "Locality                  123727\n",
       "dtype: int64"
      ]
     },
     "execution_count": 17,
     "metadata": {},
     "output_type": "execute_result"
    }
   ],
   "source": [
    "reefs.isnull().sum()"
   ]
  },
  {
   "cell_type": "code",
   "execution_count": 18,
   "id": "9d17bdec",
   "metadata": {},
   "outputs": [
    {
     "data": {
      "text/plain": [
       "ScientificName            0\n",
       "VernacularNameCategory    0\n",
       "TaxonRank                 0\n",
       "ObservationDate           0\n",
       "latitude                  0\n",
       "longitude                 0\n",
       "DepthInMeters             0\n",
       "Locality                  0\n",
       "dtype: int64"
      ]
     },
     "execution_count": 18,
     "metadata": {},
     "output_type": "execute_result"
    }
   ],
   "source": [
    "reefs.dropna(axis=0, how='any', inplace=True)\n",
    "reefs.isnull().sum()"
   ]
  },
  {
   "cell_type": "code",
   "execution_count": 19,
   "id": "46c3cdbd",
   "metadata": {},
   "outputs": [
    {
     "data": {
      "text/plain": [
       "(389580, 8)"
      ]
     },
     "execution_count": 19,
     "metadata": {},
     "output_type": "execute_result"
    }
   ],
   "source": [
    "reefs.shape"
   ]
  },
  {
   "cell_type": "markdown",
   "id": "dd69753b",
   "metadata": {},
   "source": [
    "### Formatting the columns"
   ]
  },
  {
   "cell_type": "markdown",
   "id": "e610b766",
   "metadata": {},
   "source": [
    "#### Reef dataset"
   ]
  },
  {
   "cell_type": "code",
   "execution_count": 20,
   "id": "0e2998fe",
   "metadata": {},
   "outputs": [
    {
     "name": "stdout",
     "output_type": "stream",
     "text": [
      "<class 'pandas.core.frame.DataFrame'>\n",
      "Int64Index: 389580 entries, 1 to 513371\n",
      "Data columns (total 8 columns):\n",
      " #   Column                  Non-Null Count   Dtype  \n",
      "---  ------                  --------------   -----  \n",
      " 0   ScientificName          389580 non-null  object \n",
      " 1   VernacularNameCategory  389580 non-null  object \n",
      " 2   TaxonRank               389580 non-null  object \n",
      " 3   ObservationDate         389580 non-null  object \n",
      " 4   latitude                389580 non-null  float64\n",
      " 5   longitude               389580 non-null  float64\n",
      " 6   DepthInMeters           389580 non-null  int64  \n",
      " 7   Locality                389580 non-null  object \n",
      "dtypes: float64(2), int64(1), object(5)\n",
      "memory usage: 26.8+ MB\n"
     ]
    }
   ],
   "source": [
    "reefs.info()"
   ]
  },
  {
   "cell_type": "code",
   "execution_count": 21,
   "id": "167ea853",
   "metadata": {},
   "outputs": [],
   "source": [
    "reefs.latitude = reefs.latitude.astype(float)\n",
    "reefs.longitude = reefs.longitude.astype(float)"
   ]
  },
  {
   "cell_type": "code",
   "execution_count": 22,
   "id": "5d3265f1",
   "metadata": {},
   "outputs": [
    {
     "data": {
      "text/plain": [
       "1         2015-09-01\n",
       "2         2015-09-01\n",
       "3         2015-09-01\n",
       "4         2015-09-01\n",
       "5         2015-09-02\n",
       "             ...    \n",
       "513367    2003-08-11\n",
       "513368    2003-08-11\n",
       "513369    1995-07-06\n",
       "513370    2003-08-06\n",
       "513371    2003-08-08\n",
       "Name: ObservationDate, Length: 389580, dtype: object"
      ]
     },
     "execution_count": 22,
     "metadata": {},
     "output_type": "execute_result"
    }
   ],
   "source": [
    "reefs.ObservationDate"
   ]
  },
  {
   "cell_type": "code",
   "execution_count": 23,
   "id": "b089fe04",
   "metadata": {},
   "outputs": [
    {
     "data": {
      "text/plain": [
       "1        2015-09-01\n",
       "2        2015-09-01\n",
       "3        2015-09-01\n",
       "4        2015-09-01\n",
       "5        2015-09-02\n",
       "            ...    \n",
       "513367   2003-08-11\n",
       "513368   2003-08-11\n",
       "513369   1995-07-06\n",
       "513370   2003-08-06\n",
       "513371   2003-08-08\n",
       "Name: ObservationDate, Length: 389580, dtype: datetime64[ns]"
      ]
     },
     "execution_count": 23,
     "metadata": {},
     "output_type": "execute_result"
    }
   ],
   "source": [
    "pd.to_datetime(reefs.ObservationDate, format='%Y-%m-%d', errors='coerce')"
   ]
  },
  {
   "cell_type": "code",
   "execution_count": 24,
   "id": "956952ba",
   "metadata": {},
   "outputs": [
    {
     "data": {
      "text/html": [
       "<div>\n",
       "<style scoped>\n",
       "    .dataframe tbody tr th:only-of-type {\n",
       "        vertical-align: middle;\n",
       "    }\n",
       "\n",
       "    .dataframe tbody tr th {\n",
       "        vertical-align: top;\n",
       "    }\n",
       "\n",
       "    .dataframe thead th {\n",
       "        text-align: right;\n",
       "    }\n",
       "</style>\n",
       "<table border=\"1\" class=\"dataframe\">\n",
       "  <thead>\n",
       "    <tr style=\"text-align: right;\">\n",
       "      <th></th>\n",
       "      <th>ScientificName</th>\n",
       "      <th>VernacularNameCategory</th>\n",
       "      <th>TaxonRank</th>\n",
       "      <th>ObservationDate</th>\n",
       "      <th>latitude</th>\n",
       "      <th>longitude</th>\n",
       "      <th>DepthInMeters</th>\n",
       "      <th>Locality</th>\n",
       "    </tr>\n",
       "  </thead>\n",
       "  <tbody>\n",
       "    <tr>\n",
       "      <th>417781</th>\n",
       "      <td>Flabellum (Ulocyathus) alabastrum</td>\n",
       "      <td>stony coral (cup coral)</td>\n",
       "      <td>species</td>\n",
       "      <td>5/26/1954</td>\n",
       "      <td>27.16667</td>\n",
       "      <td>-79.56667</td>\n",
       "      <td>686</td>\n",
       "      <td>off southeast Florida</td>\n",
       "    </tr>\n",
       "  </tbody>\n",
       "</table>\n",
       "</div>"
      ],
      "text/plain": [
       "                           ScientificName   VernacularNameCategory TaxonRank  \\\n",
       "417781  Flabellum (Ulocyathus) alabastrum  stony coral (cup coral)   species   \n",
       "\n",
       "       ObservationDate  latitude  longitude  DepthInMeters  \\\n",
       "417781       5/26/1954  27.16667  -79.56667            686   \n",
       "\n",
       "                     Locality  \n",
       "417781  off southeast Florida  "
      ]
     },
     "execution_count": 24,
     "metadata": {},
     "output_type": "execute_result"
    }
   ],
   "source": [
    "reefs[pd.to_datetime(reefs.ObservationDate, format='%Y-%m-%d', errors='coerce').isnull()]"
   ]
  },
  {
   "cell_type": "markdown",
   "id": "5d15cc04",
   "metadata": {},
   "source": [
    "Some dates only include the year. So we will create a new column `ObservationYear` which will serve us throughout the rest of our analysis."
   ]
  },
  {
   "cell_type": "code",
   "execution_count": 25,
   "id": "416f3043",
   "metadata": {},
   "outputs": [],
   "source": [
    "def extract_year(date):\n",
    "    if len(date) >= 4:\n",
    "        return date.split('-')[0]\n",
    "    else:\n",
    "        return date"
   ]
  },
  {
   "cell_type": "code",
   "execution_count": 26,
   "id": "6e3e55ff",
   "metadata": {},
   "outputs": [],
   "source": [
    "reefs['ObservationYear'] = reefs['ObservationDate'].astype(str).apply(extract_year)"
   ]
  },
  {
   "cell_type": "code",
   "execution_count": 27,
   "id": "d8c4c0cb",
   "metadata": {},
   "outputs": [
    {
     "data": {
      "text/html": [
       "<div>\n",
       "<style scoped>\n",
       "    .dataframe tbody tr th:only-of-type {\n",
       "        vertical-align: middle;\n",
       "    }\n",
       "\n",
       "    .dataframe tbody tr th {\n",
       "        vertical-align: top;\n",
       "    }\n",
       "\n",
       "    .dataframe thead th {\n",
       "        text-align: right;\n",
       "    }\n",
       "</style>\n",
       "<table border=\"1\" class=\"dataframe\">\n",
       "  <thead>\n",
       "    <tr style=\"text-align: right;\">\n",
       "      <th></th>\n",
       "      <th>ScientificName</th>\n",
       "      <th>VernacularNameCategory</th>\n",
       "      <th>TaxonRank</th>\n",
       "      <th>ObservationDate</th>\n",
       "      <th>latitude</th>\n",
       "      <th>longitude</th>\n",
       "      <th>DepthInMeters</th>\n",
       "      <th>Locality</th>\n",
       "      <th>ObservationYear</th>\n",
       "    </tr>\n",
       "  </thead>\n",
       "  <tbody>\n",
       "    <tr>\n",
       "      <th>1</th>\n",
       "      <td>Madrepora oculata</td>\n",
       "      <td>stony coral (branching)</td>\n",
       "      <td>species</td>\n",
       "      <td>2015-09-01</td>\n",
       "      <td>18.30864</td>\n",
       "      <td>-158.45393</td>\n",
       "      <td>953</td>\n",
       "      <td>Hawaiian Archipelago, Swordfish Seamount</td>\n",
       "      <td>2015</td>\n",
       "    </tr>\n",
       "    <tr>\n",
       "      <th>2</th>\n",
       "      <td>Madrepora oculata</td>\n",
       "      <td>stony coral (branching)</td>\n",
       "      <td>species</td>\n",
       "      <td>2015-09-01</td>\n",
       "      <td>18.30877</td>\n",
       "      <td>-158.45384</td>\n",
       "      <td>955</td>\n",
       "      <td>Hawaiian Archipelago, Swordfish Seamount</td>\n",
       "      <td>2015</td>\n",
       "    </tr>\n",
       "    <tr>\n",
       "      <th>3</th>\n",
       "      <td>Madrepora oculata</td>\n",
       "      <td>stony coral (branching)</td>\n",
       "      <td>species</td>\n",
       "      <td>2015-09-01</td>\n",
       "      <td>18.30875</td>\n",
       "      <td>-158.45384</td>\n",
       "      <td>955</td>\n",
       "      <td>Hawaiian Archipelago, Swordfish Seamount</td>\n",
       "      <td>2015</td>\n",
       "    </tr>\n",
       "    <tr>\n",
       "      <th>4</th>\n",
       "      <td>Madrepora oculata</td>\n",
       "      <td>stony coral (branching)</td>\n",
       "      <td>species</td>\n",
       "      <td>2015-09-01</td>\n",
       "      <td>18.30902</td>\n",
       "      <td>-158.45425</td>\n",
       "      <td>968</td>\n",
       "      <td>Hawaiian Archipelago, Swordfish Seamount</td>\n",
       "      <td>2015</td>\n",
       "    </tr>\n",
       "    <tr>\n",
       "      <th>5</th>\n",
       "      <td>Madrepora oculata</td>\n",
       "      <td>stony coral (branching)</td>\n",
       "      <td>species</td>\n",
       "      <td>2015-09-02</td>\n",
       "      <td>18.30746</td>\n",
       "      <td>-158.45412</td>\n",
       "      <td>976</td>\n",
       "      <td>Hawaiian Archipelago, Swordfish Seamount</td>\n",
       "      <td>2015</td>\n",
       "    </tr>\n",
       "  </tbody>\n",
       "</table>\n",
       "</div>"
      ],
      "text/plain": [
       "      ScientificName   VernacularNameCategory TaxonRank ObservationDate  \\\n",
       "1  Madrepora oculata  stony coral (branching)   species      2015-09-01   \n",
       "2  Madrepora oculata  stony coral (branching)   species      2015-09-01   \n",
       "3  Madrepora oculata  stony coral (branching)   species      2015-09-01   \n",
       "4  Madrepora oculata  stony coral (branching)   species      2015-09-01   \n",
       "5  Madrepora oculata  stony coral (branching)   species      2015-09-02   \n",
       "\n",
       "   latitude  longitude  DepthInMeters  \\\n",
       "1  18.30864 -158.45393            953   \n",
       "2  18.30877 -158.45384            955   \n",
       "3  18.30875 -158.45384            955   \n",
       "4  18.30902 -158.45425            968   \n",
       "5  18.30746 -158.45412            976   \n",
       "\n",
       "                                   Locality ObservationYear  \n",
       "1  Hawaiian Archipelago, Swordfish Seamount            2015  \n",
       "2  Hawaiian Archipelago, Swordfish Seamount            2015  \n",
       "3  Hawaiian Archipelago, Swordfish Seamount            2015  \n",
       "4  Hawaiian Archipelago, Swordfish Seamount            2015  \n",
       "5  Hawaiian Archipelago, Swordfish Seamount            2015  "
      ]
     },
     "execution_count": 27,
     "metadata": {},
     "output_type": "execute_result"
    }
   ],
   "source": [
    "reefs.head()"
   ]
  },
  {
   "cell_type": "code",
   "execution_count": 28,
   "id": "506b9e65",
   "metadata": {},
   "outputs": [
    {
     "data": {
      "text/plain": [
       "ScientificName            0\n",
       "VernacularNameCategory    0\n",
       "TaxonRank                 0\n",
       "ObservationDate           0\n",
       "latitude                  0\n",
       "longitude                 0\n",
       "DepthInMeters             0\n",
       "Locality                  0\n",
       "ObservationYear           0\n",
       "dtype: int64"
      ]
     },
     "execution_count": 28,
     "metadata": {},
     "output_type": "execute_result"
    }
   ],
   "source": [
    "reefs.isnull().sum()"
   ]
  },
  {
   "cell_type": "code",
   "execution_count": 29,
   "id": "58603806",
   "metadata": {},
   "outputs": [
    {
     "data": {
      "text/html": [
       "<div>\n",
       "<style scoped>\n",
       "    .dataframe tbody tr th:only-of-type {\n",
       "        vertical-align: middle;\n",
       "    }\n",
       "\n",
       "    .dataframe tbody tr th {\n",
       "        vertical-align: top;\n",
       "    }\n",
       "\n",
       "    .dataframe thead th {\n",
       "        text-align: right;\n",
       "    }\n",
       "</style>\n",
       "<table border=\"1\" class=\"dataframe\">\n",
       "  <thead>\n",
       "    <tr style=\"text-align: right;\">\n",
       "      <th></th>\n",
       "      <th>ScientificName</th>\n",
       "      <th>VernacularNameCategory</th>\n",
       "      <th>TaxonRank</th>\n",
       "      <th>latitude</th>\n",
       "      <th>longitude</th>\n",
       "      <th>DepthInMeters</th>\n",
       "      <th>Locality</th>\n",
       "      <th>ObservationYear</th>\n",
       "    </tr>\n",
       "  </thead>\n",
       "  <tbody>\n",
       "    <tr>\n",
       "      <th>1</th>\n",
       "      <td>Madrepora oculata</td>\n",
       "      <td>stony coral (branching)</td>\n",
       "      <td>species</td>\n",
       "      <td>18.30864</td>\n",
       "      <td>-158.45393</td>\n",
       "      <td>953</td>\n",
       "      <td>Hawaiian Archipelago, Swordfish Seamount</td>\n",
       "      <td>2015</td>\n",
       "    </tr>\n",
       "    <tr>\n",
       "      <th>2</th>\n",
       "      <td>Madrepora oculata</td>\n",
       "      <td>stony coral (branching)</td>\n",
       "      <td>species</td>\n",
       "      <td>18.30877</td>\n",
       "      <td>-158.45384</td>\n",
       "      <td>955</td>\n",
       "      <td>Hawaiian Archipelago, Swordfish Seamount</td>\n",
       "      <td>2015</td>\n",
       "    </tr>\n",
       "    <tr>\n",
       "      <th>3</th>\n",
       "      <td>Madrepora oculata</td>\n",
       "      <td>stony coral (branching)</td>\n",
       "      <td>species</td>\n",
       "      <td>18.30875</td>\n",
       "      <td>-158.45384</td>\n",
       "      <td>955</td>\n",
       "      <td>Hawaiian Archipelago, Swordfish Seamount</td>\n",
       "      <td>2015</td>\n",
       "    </tr>\n",
       "    <tr>\n",
       "      <th>4</th>\n",
       "      <td>Madrepora oculata</td>\n",
       "      <td>stony coral (branching)</td>\n",
       "      <td>species</td>\n",
       "      <td>18.30902</td>\n",
       "      <td>-158.45425</td>\n",
       "      <td>968</td>\n",
       "      <td>Hawaiian Archipelago, Swordfish Seamount</td>\n",
       "      <td>2015</td>\n",
       "    </tr>\n",
       "    <tr>\n",
       "      <th>5</th>\n",
       "      <td>Madrepora oculata</td>\n",
       "      <td>stony coral (branching)</td>\n",
       "      <td>species</td>\n",
       "      <td>18.30746</td>\n",
       "      <td>-158.45412</td>\n",
       "      <td>976</td>\n",
       "      <td>Hawaiian Archipelago, Swordfish Seamount</td>\n",
       "      <td>2015</td>\n",
       "    </tr>\n",
       "    <tr>\n",
       "      <th>...</th>\n",
       "      <td>...</td>\n",
       "      <td>...</td>\n",
       "      <td>...</td>\n",
       "      <td>...</td>\n",
       "      <td>...</td>\n",
       "      <td>...</td>\n",
       "      <td>...</td>\n",
       "      <td>...</td>\n",
       "    </tr>\n",
       "    <tr>\n",
       "      <th>513367</th>\n",
       "      <td>Primnoa resedaeformis</td>\n",
       "      <td>gorgonian coral</td>\n",
       "      <td>species</td>\n",
       "      <td>43.94792</td>\n",
       "      <td>-68.19433</td>\n",
       "      <td>199</td>\n",
       "      <td>Gulf of Maine; Mt Desert Rock a</td>\n",
       "      <td>2003</td>\n",
       "    </tr>\n",
       "    <tr>\n",
       "      <th>513368</th>\n",
       "      <td>Primnoa resedaeformis</td>\n",
       "      <td>gorgonian coral</td>\n",
       "      <td>species</td>\n",
       "      <td>43.93652</td>\n",
       "      <td>-68.20276</td>\n",
       "      <td>143</td>\n",
       "      <td>Gulf of Maine; Mt Desert Rock b</td>\n",
       "      <td>2003</td>\n",
       "    </tr>\n",
       "    <tr>\n",
       "      <th>513369</th>\n",
       "      <td>Primnoa resedaeformis</td>\n",
       "      <td>gorgonian coral</td>\n",
       "      <td>species</td>\n",
       "      <td>41.07333</td>\n",
       "      <td>-66.40183</td>\n",
       "      <td>606</td>\n",
       "      <td>No-name Canyon</td>\n",
       "      <td>1995</td>\n",
       "    </tr>\n",
       "    <tr>\n",
       "      <th>513370</th>\n",
       "      <td>Primnoa resedaeformis</td>\n",
       "      <td>gorgonian coral</td>\n",
       "      <td>species</td>\n",
       "      <td>43.36468</td>\n",
       "      <td>-67.81245</td>\n",
       "      <td>241</td>\n",
       "      <td>Gulf of Maine; 114 Bump a</td>\n",
       "      <td>2003</td>\n",
       "    </tr>\n",
       "    <tr>\n",
       "      <th>513371</th>\n",
       "      <td>Primnoa resedaeformis</td>\n",
       "      <td>gorgonian coral</td>\n",
       "      <td>species</td>\n",
       "      <td>43.36507</td>\n",
       "      <td>-67.81291</td>\n",
       "      <td>215</td>\n",
       "      <td>Gulf of Maine; 114 Bump b</td>\n",
       "      <td>2003</td>\n",
       "    </tr>\n",
       "  </tbody>\n",
       "</table>\n",
       "<p>389580 rows × 8 columns</p>\n",
       "</div>"
      ],
      "text/plain": [
       "               ScientificName   VernacularNameCategory TaxonRank  latitude  \\\n",
       "1           Madrepora oculata  stony coral (branching)   species  18.30864   \n",
       "2           Madrepora oculata  stony coral (branching)   species  18.30877   \n",
       "3           Madrepora oculata  stony coral (branching)   species  18.30875   \n",
       "4           Madrepora oculata  stony coral (branching)   species  18.30902   \n",
       "5           Madrepora oculata  stony coral (branching)   species  18.30746   \n",
       "...                       ...                      ...       ...       ...   \n",
       "513367  Primnoa resedaeformis          gorgonian coral   species  43.94792   \n",
       "513368  Primnoa resedaeformis          gorgonian coral   species  43.93652   \n",
       "513369  Primnoa resedaeformis          gorgonian coral   species  41.07333   \n",
       "513370  Primnoa resedaeformis          gorgonian coral   species  43.36468   \n",
       "513371  Primnoa resedaeformis          gorgonian coral   species  43.36507   \n",
       "\n",
       "        longitude  DepthInMeters                                  Locality  \\\n",
       "1      -158.45393            953  Hawaiian Archipelago, Swordfish Seamount   \n",
       "2      -158.45384            955  Hawaiian Archipelago, Swordfish Seamount   \n",
       "3      -158.45384            955  Hawaiian Archipelago, Swordfish Seamount   \n",
       "4      -158.45425            968  Hawaiian Archipelago, Swordfish Seamount   \n",
       "5      -158.45412            976  Hawaiian Archipelago, Swordfish Seamount   \n",
       "...           ...            ...                                       ...   \n",
       "513367  -68.19433            199           Gulf of Maine; Mt Desert Rock a   \n",
       "513368  -68.20276            143           Gulf of Maine; Mt Desert Rock b   \n",
       "513369  -66.40183            606                            No-name Canyon   \n",
       "513370  -67.81245            241                 Gulf of Maine; 114 Bump a   \n",
       "513371  -67.81291            215                 Gulf of Maine; 114 Bump b   \n",
       "\n",
       "       ObservationYear  \n",
       "1                 2015  \n",
       "2                 2015  \n",
       "3                 2015  \n",
       "4                 2015  \n",
       "5                 2015  \n",
       "...                ...  \n",
       "513367            2003  \n",
       "513368            2003  \n",
       "513369            1995  \n",
       "513370            2003  \n",
       "513371            2003  \n",
       "\n",
       "[389580 rows x 8 columns]"
      ]
     },
     "execution_count": 29,
     "metadata": {},
     "output_type": "execute_result"
    }
   ],
   "source": [
    "reefs.drop(axis=1, columns=['ObservationDate'], inplace=True)\n",
    "reefs"
   ]
  },
  {
   "cell_type": "code",
   "execution_count": 30,
   "id": "ec648670",
   "metadata": {},
   "outputs": [
    {
     "data": {
      "text/plain": [
       "417781    5/26/1954\n",
       "Name: ObservationYear, dtype: object"
      ]
     },
     "execution_count": 30,
     "metadata": {},
     "output_type": "execute_result"
    }
   ],
   "source": [
    "reefs.ObservationYear[reefs.ObservationYear.str.len() > 4]"
   ]
  },
  {
   "cell_type": "code",
   "execution_count": 31,
   "id": "8a0e02a1",
   "metadata": {},
   "outputs": [
    {
     "data": {
      "text/plain": [
       "'2011'"
      ]
     },
     "execution_count": 31,
     "metadata": {},
     "output_type": "execute_result"
    }
   ],
   "source": [
    "reefs.loc[417782].ObservationYear[-4:]"
   ]
  },
  {
   "cell_type": "code",
   "execution_count": 32,
   "id": "10f0f56b",
   "metadata": {},
   "outputs": [],
   "source": [
    "reefs.loc[417782, 'ObservationYear'] = reefs.loc[417782, 'ObservationYear'][-4:]"
   ]
  },
  {
   "cell_type": "code",
   "execution_count": 33,
   "id": "a9eea0af",
   "metadata": {},
   "outputs": [
    {
     "name": "stdout",
     "output_type": "stream",
     "text": [
      "<class 'pandas.core.frame.DataFrame'>\n",
      "Int64Index: 389580 entries, 1 to 513371\n",
      "Data columns (total 8 columns):\n",
      " #   Column                  Non-Null Count   Dtype  \n",
      "---  ------                  --------------   -----  \n",
      " 0   ScientificName          389580 non-null  object \n",
      " 1   VernacularNameCategory  389580 non-null  object \n",
      " 2   TaxonRank               389580 non-null  object \n",
      " 3   latitude                389580 non-null  float64\n",
      " 4   longitude               389580 non-null  float64\n",
      " 5   DepthInMeters           389580 non-null  int64  \n",
      " 6   Locality                389580 non-null  object \n",
      " 7   ObservationYear         389580 non-null  int64  \n",
      "dtypes: float64(2), int64(2), object(4)\n",
      "memory usage: 34.8+ MB\n"
     ]
    }
   ],
   "source": [
    "# Assuming 'reefs' is your DataFrame and 'ObservationYear' is the column with date strings\n",
    "reefs['ObservationYear'] = pd.to_datetime(reefs['ObservationYear']).dt.year\n",
    "\n",
    "# Now 'ObservationYear' will be an integer representation of the year\n",
    "reefs.info()\n"
   ]
  },
  {
   "cell_type": "code",
   "execution_count": 34,
   "metadata": {},
   "outputs": [
    {
     "data": {
      "text/html": [
       "<div>\n",
       "<style scoped>\n",
       "    .dataframe tbody tr th:only-of-type {\n",
       "        vertical-align: middle;\n",
       "    }\n",
       "\n",
       "    .dataframe tbody tr th {\n",
       "        vertical-align: top;\n",
       "    }\n",
       "\n",
       "    .dataframe thead th {\n",
       "        text-align: right;\n",
       "    }\n",
       "</style>\n",
       "<table border=\"1\" class=\"dataframe\">\n",
       "  <thead>\n",
       "    <tr style=\"text-align: right;\">\n",
       "      <th></th>\n",
       "      <th>ScientificName</th>\n",
       "      <th>VernacularNameCategory</th>\n",
       "      <th>TaxonRank</th>\n",
       "      <th>latitude</th>\n",
       "      <th>longitude</th>\n",
       "      <th>DepthInMeters</th>\n",
       "      <th>Locality</th>\n",
       "      <th>ObservationYear</th>\n",
       "    </tr>\n",
       "  </thead>\n",
       "  <tbody>\n",
       "    <tr>\n",
       "      <th>1</th>\n",
       "      <td>Madrepora oculata</td>\n",
       "      <td>stony coral (branching)</td>\n",
       "      <td>species</td>\n",
       "      <td>18.30864</td>\n",
       "      <td>-158.45393</td>\n",
       "      <td>953</td>\n",
       "      <td>Hawaiian Archipelago, Swordfish Seamount</td>\n",
       "      <td>2015</td>\n",
       "    </tr>\n",
       "    <tr>\n",
       "      <th>2</th>\n",
       "      <td>Madrepora oculata</td>\n",
       "      <td>stony coral (branching)</td>\n",
       "      <td>species</td>\n",
       "      <td>18.30877</td>\n",
       "      <td>-158.45384</td>\n",
       "      <td>955</td>\n",
       "      <td>Hawaiian Archipelago, Swordfish Seamount</td>\n",
       "      <td>2015</td>\n",
       "    </tr>\n",
       "    <tr>\n",
       "      <th>3</th>\n",
       "      <td>Madrepora oculata</td>\n",
       "      <td>stony coral (branching)</td>\n",
       "      <td>species</td>\n",
       "      <td>18.30875</td>\n",
       "      <td>-158.45384</td>\n",
       "      <td>955</td>\n",
       "      <td>Hawaiian Archipelago, Swordfish Seamount</td>\n",
       "      <td>2015</td>\n",
       "    </tr>\n",
       "    <tr>\n",
       "      <th>4</th>\n",
       "      <td>Madrepora oculata</td>\n",
       "      <td>stony coral (branching)</td>\n",
       "      <td>species</td>\n",
       "      <td>18.30902</td>\n",
       "      <td>-158.45425</td>\n",
       "      <td>968</td>\n",
       "      <td>Hawaiian Archipelago, Swordfish Seamount</td>\n",
       "      <td>2015</td>\n",
       "    </tr>\n",
       "    <tr>\n",
       "      <th>5</th>\n",
       "      <td>Madrepora oculata</td>\n",
       "      <td>stony coral (branching)</td>\n",
       "      <td>species</td>\n",
       "      <td>18.30746</td>\n",
       "      <td>-158.45412</td>\n",
       "      <td>976</td>\n",
       "      <td>Hawaiian Archipelago, Swordfish Seamount</td>\n",
       "      <td>2015</td>\n",
       "    </tr>\n",
       "  </tbody>\n",
       "</table>\n",
       "</div>"
      ],
      "text/plain": [
       "      ScientificName   VernacularNameCategory TaxonRank  latitude  longitude  \\\n",
       "1  Madrepora oculata  stony coral (branching)   species  18.30864 -158.45393   \n",
       "2  Madrepora oculata  stony coral (branching)   species  18.30877 -158.45384   \n",
       "3  Madrepora oculata  stony coral (branching)   species  18.30875 -158.45384   \n",
       "4  Madrepora oculata  stony coral (branching)   species  18.30902 -158.45425   \n",
       "5  Madrepora oculata  stony coral (branching)   species  18.30746 -158.45412   \n",
       "\n",
       "   DepthInMeters                                  Locality  ObservationYear  \n",
       "1            953  Hawaiian Archipelago, Swordfish Seamount             2015  \n",
       "2            955  Hawaiian Archipelago, Swordfish Seamount             2015  \n",
       "3            955  Hawaiian Archipelago, Swordfish Seamount             2015  \n",
       "4            968  Hawaiian Archipelago, Swordfish Seamount             2015  \n",
       "5            976  Hawaiian Archipelago, Swordfish Seamount             2015  "
      ]
     },
     "execution_count": 34,
     "metadata": {},
     "output_type": "execute_result"
    }
   ],
   "source": [
    "reefs.head()"
   ]
  },
  {
   "cell_type": "code",
   "execution_count": 35,
   "metadata": {},
   "outputs": [
    {
     "data": {
      "text/plain": [
       "array([2015, 1991, 2011, 2005, 1986, 1990, 1972, 2010, 2009, 1963, 1978,\n",
       "       1979, 1966, 1964, 1984, 2002, 1888, 1994, 1973, 2003, 1960, 1982,\n",
       "       1970, 1992, 2004, 1985, 1968, 1988, 1971, 1995, 1974, 2007, 1889,\n",
       "       1891, 1885, 1962, 1983, 1965, 1969, 2000, 1884, 1958, 1909, 1976,\n",
       "       1879, 1961, 1908, 2014, 1975, 2012, 1980, 1952, 1967, 1987, 1886,\n",
       "       1887, 1977, 2006, 1999, 1883, 2001, 1996, 1957, 1981, 1997, 1953,\n",
       "       1938, 1959, 1998, 1989, 1902, 1878, 1956, 1993, 2008, 1906, 1905,\n",
       "       1925, 1899, 1955, 1904, 1890, 1880, 1881, 1929, 1922, 1873, 1932,\n",
       "       1900, 1933, 1927, 1951, 1940, 1882, 1923, 1901, 1877, 1916, 1948,\n",
       "       2013, 1915, 1934, 1954, 1924, 1949, 1941, 1936, 1893, 1897, 1903,\n",
       "       1894, 1842, 1869, 1939, 1868, 1950, 1912, 1872, 1895, 1896, 1926,\n",
       "       1937, 1947, 1859, 1876, 1930, 1935, 1946, 1920, 1917, 1874, 1945,\n",
       "       1875, 1907, 1919, 1911, 1913, 1931, 1898, 1914, 2016], dtype=int64)"
      ]
     },
     "execution_count": 35,
     "metadata": {},
     "output_type": "execute_result"
    }
   ],
   "source": [
    "reefs['ObservationYear'].unique()"
   ]
  },
  {
   "cell_type": "code",
   "execution_count": 36,
   "metadata": {},
   "outputs": [
    {
     "data": {
      "text/html": [
       "<div>\n",
       "<style scoped>\n",
       "    .dataframe tbody tr th:only-of-type {\n",
       "        vertical-align: middle;\n",
       "    }\n",
       "\n",
       "    .dataframe tbody tr th {\n",
       "        vertical-align: top;\n",
       "    }\n",
       "\n",
       "    .dataframe thead th {\n",
       "        text-align: right;\n",
       "    }\n",
       "</style>\n",
       "<table border=\"1\" class=\"dataframe\">\n",
       "  <thead>\n",
       "    <tr style=\"text-align: right;\">\n",
       "      <th></th>\n",
       "      <th>ScientificName</th>\n",
       "      <th>VernacularNameCategory</th>\n",
       "      <th>TaxonRank</th>\n",
       "      <th>latitude</th>\n",
       "      <th>longitude</th>\n",
       "      <th>DepthInMeters</th>\n",
       "      <th>Locality</th>\n",
       "      <th>ObservationYear</th>\n",
       "    </tr>\n",
       "  </thead>\n",
       "  <tbody>\n",
       "    <tr>\n",
       "      <th>198942</th>\n",
       "      <td>Eunicella sp.</td>\n",
       "      <td>gorgonian coral</td>\n",
       "      <td>genus</td>\n",
       "      <td>-35.930</td>\n",
       "      <td>18.470</td>\n",
       "      <td>3094</td>\n",
       "      <td>Cape Town</td>\n",
       "      <td>1842</td>\n",
       "    </tr>\n",
       "    <tr>\n",
       "      <th>201057</th>\n",
       "      <td>Melithaea dichotoma</td>\n",
       "      <td>gorgonian coral</td>\n",
       "      <td>species</td>\n",
       "      <td>-35.930</td>\n",
       "      <td>18.470</td>\n",
       "      <td>3094</td>\n",
       "      <td>Cape Town</td>\n",
       "      <td>1842</td>\n",
       "    </tr>\n",
       "    <tr>\n",
       "      <th>199046</th>\n",
       "      <td>Leptogorgia flammea</td>\n",
       "      <td>gorgonian coral</td>\n",
       "      <td>species</td>\n",
       "      <td>-35.930</td>\n",
       "      <td>18.470</td>\n",
       "      <td>3094</td>\n",
       "      <td>Cape Town</td>\n",
       "      <td>1842</td>\n",
       "    </tr>\n",
       "    <tr>\n",
       "      <th>19793</th>\n",
       "      <td>Flabellum (Ulocyathus) angulare</td>\n",
       "      <td>stony coral (cup coral)</td>\n",
       "      <td>species</td>\n",
       "      <td>39.367</td>\n",
       "      <td>-71.392</td>\n",
       "      <td>2542</td>\n",
       "      <td>Off U.S. Continental Shelf, Atlantic Ocean</td>\n",
       "      <td>1842</td>\n",
       "    </tr>\n",
       "    <tr>\n",
       "      <th>198934</th>\n",
       "      <td>Eunicella sp.</td>\n",
       "      <td>gorgonian coral</td>\n",
       "      <td>genus</td>\n",
       "      <td>-35.930</td>\n",
       "      <td>18.470</td>\n",
       "      <td>3094</td>\n",
       "      <td>Cape Town</td>\n",
       "      <td>1842</td>\n",
       "    </tr>\n",
       "  </tbody>\n",
       "</table>\n",
       "</div>"
      ],
      "text/plain": [
       "                         ScientificName   VernacularNameCategory TaxonRank  \\\n",
       "198942                    Eunicella sp.          gorgonian coral     genus   \n",
       "201057              Melithaea dichotoma          gorgonian coral   species   \n",
       "199046              Leptogorgia flammea          gorgonian coral   species   \n",
       "19793   Flabellum (Ulocyathus) angulare  stony coral (cup coral)   species   \n",
       "198934                    Eunicella sp.          gorgonian coral     genus   \n",
       "\n",
       "        latitude  longitude  DepthInMeters  \\\n",
       "198942   -35.930     18.470           3094   \n",
       "201057   -35.930     18.470           3094   \n",
       "199046   -35.930     18.470           3094   \n",
       "19793     39.367    -71.392           2542   \n",
       "198934   -35.930     18.470           3094   \n",
       "\n",
       "                                          Locality  ObservationYear  \n",
       "198942                                   Cape Town             1842  \n",
       "201057                                   Cape Town             1842  \n",
       "199046                                   Cape Town             1842  \n",
       "19793   Off U.S. Continental Shelf, Atlantic Ocean             1842  \n",
       "198934                                   Cape Town             1842  "
      ]
     },
     "execution_count": 36,
     "metadata": {},
     "output_type": "execute_result"
    }
   ],
   "source": [
    "reefs_sorted = reefs.sort_values(by='ObservationYear')\n",
    "\n",
    "reefs_sorted.head()"
   ]
  },
  {
   "cell_type": "code",
   "execution_count": 37,
   "metadata": {},
   "outputs": [
    {
     "data": {
      "text/plain": [
       "array([1842, 1859, 1868, 1869, 1872, 1873, 1874, 1875, 1876, 1877, 1878,\n",
       "       1879, 1880, 1881, 1882, 1883, 1884, 1885, 1886, 1887, 1888, 1889,\n",
       "       1890, 1891, 1893, 1894, 1895, 1896, 1897, 1898, 1899, 1900, 1901,\n",
       "       1902, 1903, 1904, 1905, 1906, 1907, 1908, 1909, 1911, 1912, 1913,\n",
       "       1914, 1915, 1916, 1917, 1919, 1920, 1922, 1923, 1924, 1925, 1926,\n",
       "       1927, 1929, 1930, 1931, 1932, 1933, 1934, 1935, 1936, 1937, 1938,\n",
       "       1939, 1940, 1941, 1945, 1946, 1947, 1948, 1949, 1950, 1951, 1952,\n",
       "       1953, 1954, 1955, 1956, 1957, 1958, 1959, 1960, 1961, 1962, 1963,\n",
       "       1964, 1965, 1966, 1967, 1968, 1969, 1970, 1971, 1972, 1973, 1974,\n",
       "       1975, 1976, 1977, 1978, 1979, 1980, 1981, 1982, 1983, 1984, 1985,\n",
       "       1986, 1987, 1988, 1989, 1990, 1991, 1992, 1993, 1994, 1995, 1996,\n",
       "       1997, 1998, 1999, 2000, 2001, 2002, 2003, 2004, 2005, 2006, 2007,\n",
       "       2008, 2009, 2010, 2011, 2012, 2013, 2014, 2015, 2016], dtype=int64)"
      ]
     },
     "execution_count": 37,
     "metadata": {},
     "output_type": "execute_result"
    }
   ],
   "source": [
    "reefs_sorted[\"ObservationYear\"].unique()"
   ]
  },
  {
   "cell_type": "code",
   "execution_count": 38,
   "metadata": {},
   "outputs": [],
   "source": [
    "subset_1842_1900 = reefs_sorted.loc[reefs_sorted['ObservationYear'].between(1842, 1900)]\n",
    "\n",
    "subset_1901_1950 = reefs_sorted.loc[reefs_sorted['ObservationYear'].between(1901, 1950)]\n",
    "\n",
    "subset_1951_2000 = reefs_sorted.loc[reefs_sorted['ObservationYear'].between(1951, 2000)]\n",
    "\n",
    "subset_2001_2016 = reefs_sorted.loc[reefs_sorted['ObservationYear'].between(2001, 2016)]\n"
   ]
  },
  {
   "cell_type": "code",
   "execution_count": 39,
   "metadata": {},
   "outputs": [
    {
     "name": "stdout",
     "output_type": "stream",
     "text": [
      "[1842 1859 1868 1869 1872 1873 1874 1875 1876 1877 1878 1879 1880 1881\n",
      " 1882 1883 1884 1885 1886 1887 1888 1889 1890 1891 1893 1894 1895 1896\n",
      " 1897 1898 1899 1900 1901 1902 1903 1904 1905 1906 1907 1908 1909 1911\n",
      " 1912 1913 1914 1915 1916 1917 1919 1920 1922 1923 1924 1925 1926 1927\n",
      " 1929 1930 1931 1932 1933 1934 1935 1936 1937 1938 1939 1940 1941 1945\n",
      " 1946 1947 1948 1949 1950 1951 1952 1953 1954 1955 1956 1957 1958 1959\n",
      " 1960 1961 1962 1963 1964 1965 1966 1967 1968 1969 1970 1971 1972 1973\n",
      " 1974 1975 1976 1977 1978 1979 1980 1981 1982 1983 1984 1985 1986 1987\n",
      " 1988 1989 1990 1991 1992 1993 1994 1995 1996 1997 1998 1999 2000 2001\n",
      " 2002 2003 2004 2005 2006 2007 2008 2009 2010 2011 2012 2013 2014 2015\n",
      " 2016]\n"
     ]
    }
   ],
   "source": [
    "dates = reefs_sorted[\"ObservationYear\"].unique()\n",
    "\n",
    "print(dates)"
   ]
  },
  {
   "cell_type": "markdown",
   "id": "bd35e055",
   "metadata": {},
   "source": [
    "### Ocean acidification"
   ]
  },
  {
   "cell_type": "code",
   "execution_count": null,
   "id": "bba63561",
   "metadata": {},
   "outputs": [],
   "source": []
  },
  {
   "cell_type": "markdown",
   "id": "e71b1359",
   "metadata": {},
   "source": [
    "## Data Visualization"
   ]
  },
  {
   "cell_type": "markdown",
   "id": "fede5d01",
   "metadata": {},
   "source": [
    "*Ideas*\n",
    "- Family en fonction de la depth"
   ]
  }
 ],
 "metadata": {
  "kernelspec": {
   "display_name": "Python 3 (ipykernel)",
   "language": "python",
   "name": "python3"
  },
  "language_info": {
   "codemirror_mode": {
    "name": "ipython",
    "version": 3
   },
   "file_extension": ".py",
   "mimetype": "text/x-python",
   "name": "python",
   "nbconvert_exporter": "python",
   "pygments_lexer": "ipython3",
   "version": "3.10.11"
  }
 },
 "nbformat": 4,
 "nbformat_minor": 5
}
